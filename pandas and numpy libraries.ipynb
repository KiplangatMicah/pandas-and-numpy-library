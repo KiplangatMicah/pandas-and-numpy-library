{
 "cells": [
  {
   "cell_type": "code",
   "execution_count": 1,
   "id": "04876843",
   "metadata": {},
   "outputs": [],
   "source": [
    "import pandas as pd #importing the library"
   ]
  },
  {
   "cell_type": "code",
   "execution_count": 2,
   "id": "2aba15b0",
   "metadata": {},
   "outputs": [
    {
     "data": {
      "text/plain": [
       "0    23\n",
       "1    34\n",
       "2    34\n",
       "3    56\n",
       "4    76\n",
       "dtype: int64"
      ]
     },
     "execution_count": 2,
     "metadata": {},
     "output_type": "execute_result"
    }
   ],
   "source": [
    "arr=[23,34,34,56,76]\n",
    "S1=pd.Series(arr) #defining array\n",
    "S1"
   ]
  },
  {
   "cell_type": "code",
   "execution_count": 3,
   "id": "be46e853",
   "metadata": {},
   "outputs": [
    {
     "data": {
      "text/plain": [
       "1    23\n",
       "2    45\n",
       "3    46\n",
       "4    78\n",
       "5    98\n",
       "6    12\n",
       "dtype: int64"
      ]
     },
     "execution_count": 3,
     "metadata": {},
     "output_type": "execute_result"
    }
   ],
   "source": [
    "arri=[23,45,46,78,98,12]\n",
    "order=[1,2,3,4,5,6]\n",
    "S2=pd.Series(arri,index=order) #indexing array\n",
    "S2"
   ]
  },
  {
   "cell_type": "code",
   "execution_count": 4,
   "id": "a540f5ab",
   "metadata": {},
   "outputs": [
    {
     "data": {
      "text/plain": [
       "1    23\n",
       "2    45\n",
       "3    46\n",
       "dtype: int64"
      ]
     },
     "execution_count": 4,
     "metadata": {},
     "output_type": "execute_result"
    }
   ],
   "source": [
    "S2[:3] #printing the first three values"
   ]
  },
  {
   "cell_type": "code",
   "execution_count": 5,
   "id": "0d4ce1e7",
   "metadata": {},
   "outputs": [
    {
     "data": {
      "text/plain": [
       "4    78\n",
       "5    98\n",
       "6    12\n",
       "dtype: int64"
      ]
     },
     "execution_count": 5,
     "metadata": {},
     "output_type": "execute_result"
    }
   ],
   "source": [
    "S2[3:] #printing other values after three first values"
   ]
  },
  {
   "cell_type": "code",
   "execution_count": 6,
   "id": "7424a2f2",
   "metadata": {},
   "outputs": [
    {
     "data": {
      "text/plain": [
       "0    23\n",
       "1    34\n",
       "2    34\n",
       "3    56\n",
       "4    76\n",
       "1    23\n",
       "2    45\n",
       "3    46\n",
       "4    78\n",
       "5    98\n",
       "6    12\n",
       "dtype: int64"
      ]
     },
     "execution_count": 6,
     "metadata": {},
     "output_type": "execute_result"
    }
   ],
   "source": [
    "S3=S1.append(S2) #combining two arrays\n",
    "S3"
   ]
  },
  {
   "cell_type": "code",
   "execution_count": 7,
   "id": "03b77489",
   "metadata": {},
   "outputs": [
    {
     "data": {
      "text/plain": [
       "0    23\n",
       "1    34\n",
       "2    34\n",
       "4    76\n",
       "1    23\n",
       "2    45\n",
       "4    78\n",
       "5    98\n",
       "6    12\n",
       "dtype: int64"
      ]
     },
     "execution_count": 7,
     "metadata": {},
     "output_type": "execute_result"
    }
   ],
   "source": [
    "S3.drop(3) #deleting values having index[3]"
   ]
  },
  {
   "cell_type": "code",
   "execution_count": 8,
   "id": "b5e14842",
   "metadata": {},
   "outputs": [
    {
     "data": {
      "text/plain": [
       "0         NaN\n",
       "1    0.676471\n",
       "2    1.323529\n",
       "3    0.821429\n",
       "4    1.026316\n",
       "5         NaN\n",
       "6         NaN\n",
       "dtype: float64"
      ]
     },
     "execution_count": 8,
     "metadata": {},
     "output_type": "execute_result"
    }
   ],
   "source": [
    "S2.div(S1) #dividing S1 values with S2 values"
   ]
  },
  {
   "cell_type": "code",
   "execution_count": 9,
   "id": "d47138e2",
   "metadata": {},
   "outputs": [
    {
     "data": {
      "text/plain": [
       "DatetimeIndex(['2022-09-29 15:47:56.593536', '2022-09-30 15:47:56.593536',\n",
       "               '2022-10-01 15:47:56.593536', '2022-10-02 15:47:56.593536',\n",
       "               '2022-10-03 15:47:56.593536', '2022-10-04 15:47:56.593536'],\n",
       "              dtype='datetime64[ns]', freq='D')"
      ]
     },
     "execution_count": 9,
     "metadata": {},
     "output_type": "execute_result"
    }
   ],
   "source": [
    "dates=pd.date_range('today',periods=6) #defining days starting from today\n",
    "dates"
   ]
  },
  {
   "cell_type": "code",
   "execution_count": 10,
   "id": "90bc422e",
   "metadata": {},
   "outputs": [
    {
     "data": {
      "text/html": [
       "<div>\n",
       "<style scoped>\n",
       "    .dataframe tbody tr th:only-of-type {\n",
       "        vertical-align: middle;\n",
       "    }\n",
       "\n",
       "    .dataframe tbody tr th {\n",
       "        vertical-align: top;\n",
       "    }\n",
       "\n",
       "    .dataframe thead th {\n",
       "        text-align: right;\n",
       "    }\n",
       "</style>\n",
       "<table border=\"1\" class=\"dataframe\">\n",
       "  <thead>\n",
       "    <tr style=\"text-align: right;\">\n",
       "      <th></th>\n",
       "      <th>A</th>\n",
       "      <th>B</th>\n",
       "      <th>C</th>\n",
       "      <th>D</th>\n",
       "    </tr>\n",
       "  </thead>\n",
       "  <tbody>\n",
       "    <tr>\n",
       "      <th>2022-09-29 15:47:56.593536</th>\n",
       "      <td>1.082719</td>\n",
       "      <td>-0.285322</td>\n",
       "      <td>0.056433</td>\n",
       "      <td>0.576262</td>\n",
       "    </tr>\n",
       "    <tr>\n",
       "      <th>2022-09-30 15:47:56.593536</th>\n",
       "      <td>1.124383</td>\n",
       "      <td>-0.105619</td>\n",
       "      <td>-1.597643</td>\n",
       "      <td>-0.780578</td>\n",
       "    </tr>\n",
       "    <tr>\n",
       "      <th>2022-10-01 15:47:56.593536</th>\n",
       "      <td>-0.639252</td>\n",
       "      <td>-1.996137</td>\n",
       "      <td>1.715468</td>\n",
       "      <td>1.727029</td>\n",
       "    </tr>\n",
       "    <tr>\n",
       "      <th>2022-10-02 15:47:56.593536</th>\n",
       "      <td>-0.630344</td>\n",
       "      <td>1.125271</td>\n",
       "      <td>-0.281800</td>\n",
       "      <td>-1.002593</td>\n",
       "    </tr>\n",
       "    <tr>\n",
       "      <th>2022-10-03 15:47:56.593536</th>\n",
       "      <td>-0.537627</td>\n",
       "      <td>0.608260</td>\n",
       "      <td>-0.228648</td>\n",
       "      <td>-1.273260</td>\n",
       "    </tr>\n",
       "    <tr>\n",
       "      <th>2022-10-04 15:47:56.593536</th>\n",
       "      <td>0.255471</td>\n",
       "      <td>0.285344</td>\n",
       "      <td>1.851223</td>\n",
       "      <td>-0.288552</td>\n",
       "    </tr>\n",
       "  </tbody>\n",
       "</table>\n",
       "</div>"
      ],
      "text/plain": [
       "                                   A         B         C         D\n",
       "2022-09-29 15:47:56.593536  1.082719 -0.285322  0.056433  0.576262\n",
       "2022-09-30 15:47:56.593536  1.124383 -0.105619 -1.597643 -0.780578\n",
       "2022-10-01 15:47:56.593536 -0.639252 -1.996137  1.715468  1.727029\n",
       "2022-10-02 15:47:56.593536 -0.630344  1.125271 -0.281800 -1.002593\n",
       "2022-10-03 15:47:56.593536 -0.537627  0.608260 -0.228648 -1.273260\n",
       "2022-10-04 15:47:56.593536  0.255471  0.285344  1.851223 -0.288552"
      ]
     },
     "execution_count": 10,
     "metadata": {},
     "output_type": "execute_result"
    }
   ],
   "source": [
    "import numpy as np #importing numpy library\n",
    "num_arr=np.random.randn(6,4) #definig the data and its shape\n",
    "columns=['A','B','C','D'] #naming columns\n",
    "df1=pd.DataFrame(num_arr,index=dates,columns=columns)\n",
    "df1"
   ]
  },
  {
   "cell_type": "code",
   "execution_count": 11,
   "id": "c700f671",
   "metadata": {},
   "outputs": [
    {
     "data": {
      "text/html": [
       "<div>\n",
       "<style scoped>\n",
       "    .dataframe tbody tr th:only-of-type {\n",
       "        vertical-align: middle;\n",
       "    }\n",
       "\n",
       "    .dataframe tbody tr th {\n",
       "        vertical-align: top;\n",
       "    }\n",
       "\n",
       "    .dataframe thead th {\n",
       "        text-align: right;\n",
       "    }\n",
       "</style>\n",
       "<table border=\"1\" class=\"dataframe\">\n",
       "  <thead>\n",
       "    <tr style=\"text-align: right;\">\n",
       "      <th></th>\n",
       "      <th>Fruits</th>\n",
       "      <th>Cost</th>\n",
       "      <th>Orders</th>\n",
       "    </tr>\n",
       "  </thead>\n",
       "  <tbody>\n",
       "    <tr>\n",
       "      <th>0</th>\n",
       "      <td>Mango</td>\n",
       "      <td>400</td>\n",
       "      <td>12.0</td>\n",
       "    </tr>\n",
       "    <tr>\n",
       "      <th>1</th>\n",
       "      <td>Banana</td>\n",
       "      <td>200</td>\n",
       "      <td>NaN</td>\n",
       "    </tr>\n",
       "    <tr>\n",
       "      <th>2</th>\n",
       "      <td>Lemon</td>\n",
       "      <td>450</td>\n",
       "      <td>15.0</td>\n",
       "    </tr>\n",
       "    <tr>\n",
       "      <th>3</th>\n",
       "      <td>Ovacado</td>\n",
       "      <td>500</td>\n",
       "      <td>18.0</td>\n",
       "    </tr>\n",
       "  </tbody>\n",
       "</table>\n",
       "</div>"
      ],
      "text/plain": [
       "    Fruits  Cost  Orders\n",
       "0    Mango   400    12.0\n",
       "1   Banana   200     NaN\n",
       "2    Lemon   450    15.0\n",
       "3  Ovacado   500    18.0"
      ]
     },
     "execution_count": 11,
     "metadata": {},
     "output_type": "execute_result"
    }
   ],
   "source": [
    "data={'Fruits': ['Mango','Banana','Lemon','Ovacado'], 'Cost': [400,200,450,500],\n",
    "             'Orders': [12,np.nan,15,18]} #definig arrays inside one array\n",
    "df=pd.DataFrame(data)\n",
    "df"
   ]
  },
  {
   "cell_type": "code",
   "execution_count": 12,
   "id": "664cc772",
   "metadata": {},
   "outputs": [
    {
     "name": "stderr",
     "output_type": "stream",
     "text": [
      "C:\\Users\\hp\\AppData\\Local\\Temp/ipykernel_2940/3698961737.py:1: FutureWarning: Dropping of nuisance columns in DataFrame reductions (with 'numeric_only=None') is deprecated; in a future version this will raise TypeError.  Select only valid columns before calling the reduction.\n",
      "  df.mean()\n"
     ]
    },
    {
     "data": {
      "text/plain": [
       "Cost      387.5\n",
       "Orders     15.0\n",
       "dtype: float64"
      ]
     },
     "execution_count": 12,
     "metadata": {},
     "output_type": "execute_result"
    }
   ],
   "source": [
    "df.mean()#findin mean of the data"
   ]
  },
  {
   "cell_type": "code",
   "execution_count": 25,
   "id": "ea5bceeb",
   "metadata": {},
   "outputs": [
    {
     "data": {
      "text/html": [
       "<div>\n",
       "<style scoped>\n",
       "    .dataframe tbody tr th:only-of-type {\n",
       "        vertical-align: middle;\n",
       "    }\n",
       "\n",
       "    .dataframe tbody tr th {\n",
       "        vertical-align: top;\n",
       "    }\n",
       "\n",
       "    .dataframe thead th {\n",
       "        text-align: right;\n",
       "    }\n",
       "</style>\n",
       "<table border=\"1\" class=\"dataframe\">\n",
       "  <thead>\n",
       "    <tr style=\"text-align: right;\">\n",
       "      <th></th>\n",
       "      <th>0</th>\n",
       "      <th>1</th>\n",
       "      <th>2</th>\n",
       "      <th>3</th>\n",
       "    </tr>\n",
       "  </thead>\n",
       "  <tbody>\n",
       "    <tr>\n",
       "      <th>Fruits</th>\n",
       "      <td>Mango</td>\n",
       "      <td>Banana</td>\n",
       "      <td>Lemon</td>\n",
       "      <td>Ovacado</td>\n",
       "    </tr>\n",
       "    <tr>\n",
       "      <th>Cost</th>\n",
       "      <td>400</td>\n",
       "      <td>200</td>\n",
       "      <td>450</td>\n",
       "      <td>500</td>\n",
       "    </tr>\n",
       "    <tr>\n",
       "      <th>Orders</th>\n",
       "      <td>12.0</td>\n",
       "      <td>NaN</td>\n",
       "      <td>15.0</td>\n",
       "      <td>18.0</td>\n",
       "    </tr>\n",
       "  </tbody>\n",
       "</table>\n",
       "</div>"
      ],
      "text/plain": [
       "            0       1      2        3\n",
       "Fruits  Mango  Banana  Lemon  Ovacado\n",
       "Cost      400     200    450      500\n",
       "Orders   12.0     NaN   15.0     18.0"
      ]
     },
     "execution_count": 25,
     "metadata": {},
     "output_type": "execute_result"
    }
   ],
   "source": [
    "df.T"
   ]
  },
  {
   "cell_type": "code",
   "execution_count": 14,
   "id": "28b41849",
   "metadata": {},
   "outputs": [
    {
     "data": {
      "text/html": [
       "<div>\n",
       "<style scoped>\n",
       "    .dataframe tbody tr th:only-of-type {\n",
       "        vertical-align: middle;\n",
       "    }\n",
       "\n",
       "    .dataframe tbody tr th {\n",
       "        vertical-align: top;\n",
       "    }\n",
       "\n",
       "    .dataframe thead th {\n",
       "        text-align: right;\n",
       "    }\n",
       "</style>\n",
       "<table border=\"1\" class=\"dataframe\">\n",
       "  <thead>\n",
       "    <tr style=\"text-align: right;\">\n",
       "      <th></th>\n",
       "      <th>Fruits</th>\n",
       "      <th>Cost</th>\n",
       "      <th>Orders</th>\n",
       "    </tr>\n",
       "  </thead>\n",
       "  <tbody>\n",
       "    <tr>\n",
       "      <th>0</th>\n",
       "      <td>False</td>\n",
       "      <td>False</td>\n",
       "      <td>False</td>\n",
       "    </tr>\n",
       "    <tr>\n",
       "      <th>1</th>\n",
       "      <td>False</td>\n",
       "      <td>False</td>\n",
       "      <td>True</td>\n",
       "    </tr>\n",
       "    <tr>\n",
       "      <th>2</th>\n",
       "      <td>False</td>\n",
       "      <td>False</td>\n",
       "      <td>False</td>\n",
       "    </tr>\n",
       "    <tr>\n",
       "      <th>3</th>\n",
       "      <td>False</td>\n",
       "      <td>False</td>\n",
       "      <td>False</td>\n",
       "    </tr>\n",
       "  </tbody>\n",
       "</table>\n",
       "</div>"
      ],
      "text/plain": [
       "   Fruits   Cost  Orders\n",
       "0   False  False   False\n",
       "1   False  False    True\n",
       "2   False  False   False\n",
       "3   False  False   False"
      ]
     },
     "execution_count": 14,
     "metadata": {},
     "output_type": "execute_result"
    }
   ],
   "source": [
    "df.isnull() #checking any null values"
   ]
  },
  {
   "cell_type": "code",
   "execution_count": 15,
   "id": "cfc1840a",
   "metadata": {},
   "outputs": [
    {
     "data": {
      "text/html": [
       "<div>\n",
       "<style scoped>\n",
       "    .dataframe tbody tr th:only-of-type {\n",
       "        vertical-align: middle;\n",
       "    }\n",
       "\n",
       "    .dataframe tbody tr th {\n",
       "        vertical-align: top;\n",
       "    }\n",
       "\n",
       "    .dataframe thead th {\n",
       "        text-align: right;\n",
       "    }\n",
       "</style>\n",
       "<table border=\"1\" class=\"dataframe\">\n",
       "  <thead>\n",
       "    <tr style=\"text-align: right;\">\n",
       "      <th></th>\n",
       "      <th>Fruits</th>\n",
       "      <th>Cost</th>\n",
       "      <th>Orders</th>\n",
       "    </tr>\n",
       "  </thead>\n",
       "  <tbody>\n",
       "    <tr>\n",
       "      <th>1</th>\n",
       "      <td>Banana</td>\n",
       "      <td>200</td>\n",
       "      <td>NaN</td>\n",
       "    </tr>\n",
       "    <tr>\n",
       "      <th>2</th>\n",
       "      <td>Lemon</td>\n",
       "      <td>450</td>\n",
       "      <td>15.0</td>\n",
       "    </tr>\n",
       "  </tbody>\n",
       "</table>\n",
       "</div>"
      ],
      "text/plain": [
       "   Fruits  Cost  Orders\n",
       "1  Banana   200     NaN\n",
       "2   Lemon   450    15.0"
      ]
     },
     "execution_count": 15,
     "metadata": {},
     "output_type": "execute_result"
    }
   ],
   "source": [
    "df.iloc[1:3] #printing data starting index[1] to index[3]"
   ]
  },
  {
   "cell_type": "code",
   "execution_count": 20,
   "id": "2926493b",
   "metadata": {
    "scrolled": true
   },
   "outputs": [
    {
     "data": {
      "text/plain": [
       "387.5"
      ]
     },
     "execution_count": 20,
     "metadata": {},
     "output_type": "execute_result"
    }
   ],
   "source": [
    "df.Cost.mean() #finding mean for cost"
   ]
  },
  {
   "cell_type": "code",
   "execution_count": 21,
   "id": "86881fb8",
   "metadata": {},
   "outputs": [
    {
     "data": {
      "text/html": [
       "<div>\n",
       "<style scoped>\n",
       "    .dataframe tbody tr th:only-of-type {\n",
       "        vertical-align: middle;\n",
       "    }\n",
       "\n",
       "    .dataframe tbody tr th {\n",
       "        vertical-align: top;\n",
       "    }\n",
       "\n",
       "    .dataframe thead th {\n",
       "        text-align: right;\n",
       "    }\n",
       "</style>\n",
       "<table border=\"1\" class=\"dataframe\">\n",
       "  <thead>\n",
       "    <tr style=\"text-align: right;\">\n",
       "      <th></th>\n",
       "      <th>0</th>\n",
       "      <th>1</th>\n",
       "      <th>2</th>\n",
       "      <th>3</th>\n",
       "    </tr>\n",
       "  </thead>\n",
       "  <tbody>\n",
       "    <tr>\n",
       "      <th>Fruits</th>\n",
       "      <td>Mango</td>\n",
       "      <td>Banana</td>\n",
       "      <td>Lemon</td>\n",
       "      <td>Ovacado</td>\n",
       "    </tr>\n",
       "    <tr>\n",
       "      <th>Cost</th>\n",
       "      <td>400</td>\n",
       "      <td>200</td>\n",
       "      <td>450</td>\n",
       "      <td>500</td>\n",
       "    </tr>\n",
       "    <tr>\n",
       "      <th>Orders</th>\n",
       "      <td>12.0</td>\n",
       "      <td>NaN</td>\n",
       "      <td>15.0</td>\n",
       "      <td>18.0</td>\n",
       "    </tr>\n",
       "  </tbody>\n",
       "</table>\n",
       "</div>"
      ],
      "text/plain": [
       "            0       1      2        3\n",
       "Fruits  Mango  Banana  Lemon  Ovacado\n",
       "Cost      400     200    450      500\n",
       "Orders   12.0     NaN   15.0     18.0"
      ]
     },
     "execution_count": 21,
     "metadata": {},
     "output_type": "execute_result"
    }
   ],
   "source": [
    "df.T"
   ]
  },
  {
   "cell_type": "code",
   "execution_count": 24,
   "id": "e12b0d1d",
   "metadata": {},
   "outputs": [
    {
     "data": {
      "text/plain": [
       "387.5"
      ]
     },
     "execution_count": 24,
     "metadata": {},
     "output_type": "execute_result"
    }
   ],
   "source": [
    "df.Cost.mean()"
   ]
  },
  {
   "cell_type": "code",
   "execution_count": 37,
   "id": "325770f4",
   "metadata": {},
   "outputs": [
    {
     "data": {
      "text/html": [
       "<div>\n",
       "<style scoped>\n",
       "    .dataframe tbody tr th:only-of-type {\n",
       "        vertical-align: middle;\n",
       "    }\n",
       "\n",
       "    .dataframe tbody tr th {\n",
       "        vertical-align: top;\n",
       "    }\n",
       "\n",
       "    .dataframe thead th {\n",
       "        text-align: right;\n",
       "    }\n",
       "</style>\n",
       "<table border=\"1\" class=\"dataframe\">\n",
       "  <thead>\n",
       "    <tr style=\"text-align: right;\">\n",
       "      <th></th>\n",
       "      <th>Fruits</th>\n",
       "      <th>Cost</th>\n",
       "      <th>Orders</th>\n",
       "    </tr>\n",
       "  </thead>\n",
       "  <tbody>\n",
       "    <tr>\n",
       "      <th>0</th>\n",
       "      <td>Mango</td>\n",
       "      <td>400</td>\n",
       "      <td>12.0</td>\n",
       "    </tr>\n",
       "    <tr>\n",
       "      <th>1</th>\n",
       "      <td>Banana</td>\n",
       "      <td>200</td>\n",
       "      <td>20.0</td>\n",
       "    </tr>\n",
       "    <tr>\n",
       "      <th>2</th>\n",
       "      <td>Lemon</td>\n",
       "      <td>450</td>\n",
       "      <td>15.0</td>\n",
       "    </tr>\n",
       "    <tr>\n",
       "      <th>3</th>\n",
       "      <td>Ovacado</td>\n",
       "      <td>500</td>\n",
       "      <td>18.0</td>\n",
       "    </tr>\n",
       "  </tbody>\n",
       "</table>\n",
       "</div>"
      ],
      "text/plain": [
       "    Fruits  Cost  Orders\n",
       "0    Mango   400    12.0\n",
       "1   Banana   200    20.0\n",
       "2    Lemon   450    15.0\n",
       "3  Ovacado   500    18.0"
      ]
     },
     "execution_count": 37,
     "metadata": {},
     "output_type": "execute_result"
    }
   ],
   "source": [
    "df.fillna(20) #filling any null value with 20"
   ]
  },
  {
   "cell_type": "code",
   "execution_count": 39,
   "id": "ae3e1987",
   "metadata": {},
   "outputs": [
    {
     "data": {
      "text/plain": [
       "Orders    15.0\n",
       "dtype: float64"
      ]
     },
     "execution_count": 39,
     "metadata": {},
     "output_type": "execute_result"
    }
   ],
   "source": [
    "df[['Orders']].mean()"
   ]
  },
  {
   "cell_type": "code",
   "execution_count": null,
   "id": "251b578a",
   "metadata": {},
   "outputs": [],
   "source": []
  },
  {
   "cell_type": "code",
   "execution_count": null,
   "id": "a5b4226b",
   "metadata": {},
   "outputs": [],
   "source": []
  },
  {
   "cell_type": "code",
   "execution_count": null,
   "id": "6956fdd6",
   "metadata": {},
   "outputs": [],
   "source": []
  },
  {
   "cell_type": "code",
   "execution_count": 43,
   "id": "7e7ed02d",
   "metadata": {},
   "outputs": [],
   "source": [
    "df.to_csv('fruits.csv')"
   ]
  },
  {
   "cell_type": "code",
   "execution_count": 44,
   "id": "54f474ac",
   "metadata": {},
   "outputs": [
    {
     "data": {
      "text/html": [
       "<div>\n",
       "<style scoped>\n",
       "    .dataframe tbody tr th:only-of-type {\n",
       "        vertical-align: middle;\n",
       "    }\n",
       "\n",
       "    .dataframe tbody tr th {\n",
       "        vertical-align: top;\n",
       "    }\n",
       "\n",
       "    .dataframe thead th {\n",
       "        text-align: right;\n",
       "    }\n",
       "</style>\n",
       "<table border=\"1\" class=\"dataframe\">\n",
       "  <thead>\n",
       "    <tr style=\"text-align: right;\">\n",
       "      <th></th>\n",
       "      <th>Unnamed: 0</th>\n",
       "      <th>Fruits</th>\n",
       "      <th>Cost</th>\n",
       "      <th>Orders</th>\n",
       "    </tr>\n",
       "  </thead>\n",
       "  <tbody>\n",
       "    <tr>\n",
       "      <th>0</th>\n",
       "      <td>0</td>\n",
       "      <td>Mango</td>\n",
       "      <td>400</td>\n",
       "      <td>12.0</td>\n",
       "    </tr>\n",
       "    <tr>\n",
       "      <th>1</th>\n",
       "      <td>1</td>\n",
       "      <td>Banana</td>\n",
       "      <td>200</td>\n",
       "      <td>NaN</td>\n",
       "    </tr>\n",
       "    <tr>\n",
       "      <th>2</th>\n",
       "      <td>2</td>\n",
       "      <td>Lemon</td>\n",
       "      <td>450</td>\n",
       "      <td>15.0</td>\n",
       "    </tr>\n",
       "  </tbody>\n",
       "</table>\n",
       "</div>"
      ],
      "text/plain": [
       "   Unnamed: 0  Fruits  Cost  Orders\n",
       "0           0   Mango   400    12.0\n",
       "1           1  Banana   200     NaN\n",
       "2           2   Lemon   450    15.0"
      ]
     },
     "execution_count": 44,
     "metadata": {},
     "output_type": "execute_result"
    }
   ],
   "source": [
    "dataset=pd.read_csv('fruits.csv')\n",
    "dataset.head(3)"
   ]
  },
  {
   "cell_type": "code",
   "execution_count": 45,
   "id": "04ecc2b6",
   "metadata": {},
   "outputs": [],
   "source": [
    "df.to_excel('fruits.xlsx',sheet_name='Fruits') #converting dataset into excel format\n"
   ]
  },
  {
   "cell_type": "code",
   "execution_count": 48,
   "id": "fbc5b7fa",
   "metadata": {},
   "outputs": [
    {
     "data": {
      "text/html": [
       "<div>\n",
       "<style scoped>\n",
       "    .dataframe tbody tr th:only-of-type {\n",
       "        vertical-align: middle;\n",
       "    }\n",
       "\n",
       "    .dataframe tbody tr th {\n",
       "        vertical-align: top;\n",
       "    }\n",
       "\n",
       "    .dataframe thead th {\n",
       "        text-align: right;\n",
       "    }\n",
       "</style>\n",
       "<table border=\"1\" class=\"dataframe\">\n",
       "  <thead>\n",
       "    <tr style=\"text-align: right;\">\n",
       "      <th></th>\n",
       "      <th>Unnamed: 0</th>\n",
       "      <th>Fruits</th>\n",
       "      <th>Cost</th>\n",
       "      <th>Orders</th>\n",
       "    </tr>\n",
       "  </thead>\n",
       "  <tbody>\n",
       "    <tr>\n",
       "      <th>0</th>\n",
       "      <td>0</td>\n",
       "      <td>Mango</td>\n",
       "      <td>400</td>\n",
       "      <td>12.0</td>\n",
       "    </tr>\n",
       "    <tr>\n",
       "      <th>1</th>\n",
       "      <td>1</td>\n",
       "      <td>Banana</td>\n",
       "      <td>200</td>\n",
       "      <td>NaN</td>\n",
       "    </tr>\n",
       "    <tr>\n",
       "      <th>2</th>\n",
       "      <td>2</td>\n",
       "      <td>Lemon</td>\n",
       "      <td>450</td>\n",
       "      <td>15.0</td>\n",
       "    </tr>\n",
       "    <tr>\n",
       "      <th>3</th>\n",
       "      <td>3</td>\n",
       "      <td>Ovacado</td>\n",
       "      <td>500</td>\n",
       "      <td>18.0</td>\n",
       "    </tr>\n",
       "  </tbody>\n",
       "</table>\n",
       "</div>"
      ],
      "text/plain": [
       "   Unnamed: 0   Fruits  Cost  Orders\n",
       "0           0    Mango   400    12.0\n",
       "1           1   Banana   200     NaN\n",
       "2           2    Lemon   450    15.0\n",
       "3           3  Ovacado   500    18.0"
      ]
     },
     "execution_count": 48,
     "metadata": {},
     "output_type": "execute_result"
    }
   ],
   "source": [
    "dataset2=pd.read_excel('fruits.xlsx','Fruits') #reading values from excel\n",
    "dataset2"
   ]
  },
  {
   "cell_type": "code",
   "execution_count": 50,
   "id": "6afae350",
   "metadata": {},
   "outputs": [
    {
     "data": {
      "text/html": [
       "<div>\n",
       "<style scoped>\n",
       "    .dataframe tbody tr th:only-of-type {\n",
       "        vertical-align: middle;\n",
       "    }\n",
       "\n",
       "    .dataframe tbody tr th {\n",
       "        vertical-align: top;\n",
       "    }\n",
       "\n",
       "    .dataframe thead th {\n",
       "        text-align: right;\n",
       "    }\n",
       "</style>\n",
       "<table border=\"1\" class=\"dataframe\">\n",
       "  <thead>\n",
       "    <tr style=\"text-align: right;\">\n",
       "      <th></th>\n",
       "      <th>Name</th>\n",
       "      <th>Age</th>\n",
       "      <th>value</th>\n",
       "      <th>weight</th>\n",
       "    </tr>\n",
       "  </thead>\n",
       "  <tbody>\n",
       "    <tr>\n",
       "      <th>0</th>\n",
       "      <td>Rex</td>\n",
       "      <td>15</td>\n",
       "      <td>2000</td>\n",
       "      <td>20</td>\n",
       "    </tr>\n",
       "    <tr>\n",
       "      <th>1</th>\n",
       "      <td>Tommy</td>\n",
       "      <td>13</td>\n",
       "      <td>3000</td>\n",
       "      <td>32</td>\n",
       "    </tr>\n",
       "    <tr>\n",
       "      <th>2</th>\n",
       "      <td>Bingo</td>\n",
       "      <td>10</td>\n",
       "      <td>2500</td>\n",
       "      <td>24</td>\n",
       "    </tr>\n",
       "    <tr>\n",
       "      <th>3</th>\n",
       "      <td>Mick</td>\n",
       "      <td>7</td>\n",
       "      <td>3400</td>\n",
       "      <td>35</td>\n",
       "    </tr>\n",
       "    <tr>\n",
       "      <th>4</th>\n",
       "      <td>Runn</td>\n",
       "      <td>15</td>\n",
       "      <td>4600</td>\n",
       "      <td>23</td>\n",
       "    </tr>\n",
       "    <tr>\n",
       "      <th>5</th>\n",
       "      <td>Mick</td>\n",
       "      <td>23</td>\n",
       "      <td>5000</td>\n",
       "      <td>34</td>\n",
       "    </tr>\n",
       "    <tr>\n",
       "      <th>6</th>\n",
       "      <td>Mass</td>\n",
       "      <td>17</td>\n",
       "      <td>5600</td>\n",
       "      <td>36</td>\n",
       "    </tr>\n",
       "    <tr>\n",
       "      <th>7</th>\n",
       "      <td>mesh</td>\n",
       "      <td>15</td>\n",
       "      <td>4500</td>\n",
       "      <td>26</td>\n",
       "    </tr>\n",
       "    <tr>\n",
       "      <th>8</th>\n",
       "      <td>Killer</td>\n",
       "      <td>19</td>\n",
       "      <td>4000</td>\n",
       "      <td>25</td>\n",
       "    </tr>\n",
       "  </tbody>\n",
       "</table>\n",
       "</div>"
      ],
      "text/plain": [
       "     Name  Age  value  weight\n",
       "0     Rex   15   2000      20\n",
       "1   Tommy   13   3000      32\n",
       "2   Bingo   10   2500      24\n",
       "3    Mick    7   3400      35\n",
       "4    Runn   15   4600      23\n",
       "5    Mick   23   5000      34\n",
       "6    Mass   17   5600      36\n",
       "7    mesh   15   4500      26\n",
       "8  Killer   19   4000      25"
      ]
     },
     "execution_count": 50,
     "metadata": {},
     "output_type": "execute_result"
    }
   ],
   "source": [
    "dataset3=pd.read_excel('Dogs.xlsx')\n",
    "dataset3"
   ]
  },
  {
   "cell_type": "code",
   "execution_count": 51,
   "id": "7a3a995d",
   "metadata": {},
   "outputs": [
    {
     "data": {
      "text/plain": [
       "Age    14.888889\n",
       "dtype: float64"
      ]
     },
     "execution_count": 51,
     "metadata": {},
     "output_type": "execute_result"
    }
   ],
   "source": [
    "dataset3[['Age']].mean()"
   ]
  },
  {
   "cell_type": "code",
   "execution_count": 55,
   "id": "381d38c9",
   "metadata": {},
   "outputs": [
    {
     "data": {
      "text/html": [
       "<div>\n",
       "<style scoped>\n",
       "    .dataframe tbody tr th:only-of-type {\n",
       "        vertical-align: middle;\n",
       "    }\n",
       "\n",
       "    .dataframe tbody tr th {\n",
       "        vertical-align: top;\n",
       "    }\n",
       "\n",
       "    .dataframe thead th {\n",
       "        text-align: right;\n",
       "    }\n",
       "</style>\n",
       "<table border=\"1\" class=\"dataframe\">\n",
       "  <thead>\n",
       "    <tr style=\"text-align: right;\">\n",
       "      <th></th>\n",
       "      <th>Age</th>\n",
       "      <th>value</th>\n",
       "      <th>weight</th>\n",
       "    </tr>\n",
       "  </thead>\n",
       "  <tbody>\n",
       "    <tr>\n",
       "      <th>count</th>\n",
       "      <td>9.000000</td>\n",
       "      <td>9.000000</td>\n",
       "      <td>9.000000</td>\n",
       "    </tr>\n",
       "    <tr>\n",
       "      <th>mean</th>\n",
       "      <td>14.888889</td>\n",
       "      <td>3844.444444</td>\n",
       "      <td>28.333333</td>\n",
       "    </tr>\n",
       "    <tr>\n",
       "      <th>std</th>\n",
       "      <td>4.702245</td>\n",
       "      <td>1202.197063</td>\n",
       "      <td>5.937171</td>\n",
       "    </tr>\n",
       "    <tr>\n",
       "      <th>min</th>\n",
       "      <td>7.000000</td>\n",
       "      <td>2000.000000</td>\n",
       "      <td>20.000000</td>\n",
       "    </tr>\n",
       "    <tr>\n",
       "      <th>25%</th>\n",
       "      <td>13.000000</td>\n",
       "      <td>3000.000000</td>\n",
       "      <td>24.000000</td>\n",
       "    </tr>\n",
       "    <tr>\n",
       "      <th>50%</th>\n",
       "      <td>15.000000</td>\n",
       "      <td>4000.000000</td>\n",
       "      <td>26.000000</td>\n",
       "    </tr>\n",
       "    <tr>\n",
       "      <th>75%</th>\n",
       "      <td>17.000000</td>\n",
       "      <td>4600.000000</td>\n",
       "      <td>34.000000</td>\n",
       "    </tr>\n",
       "    <tr>\n",
       "      <th>max</th>\n",
       "      <td>23.000000</td>\n",
       "      <td>5600.000000</td>\n",
       "      <td>36.000000</td>\n",
       "    </tr>\n",
       "  </tbody>\n",
       "</table>\n",
       "</div>"
      ],
      "text/plain": [
       "             Age        value     weight\n",
       "count   9.000000     9.000000   9.000000\n",
       "mean   14.888889  3844.444444  28.333333\n",
       "std     4.702245  1202.197063   5.937171\n",
       "min     7.000000  2000.000000  20.000000\n",
       "25%    13.000000  3000.000000  24.000000\n",
       "50%    15.000000  4000.000000  26.000000\n",
       "75%    17.000000  4600.000000  34.000000\n",
       "max    23.000000  5600.000000  36.000000"
      ]
     },
     "execution_count": 55,
     "metadata": {},
     "output_type": "execute_result"
    }
   ],
   "source": [
    "dataset3.describe()"
   ]
  },
  {
   "cell_type": "code",
   "execution_count": null,
   "id": "3505e5d9",
   "metadata": {},
   "outputs": [],
   "source": []
  }
 ],
 "metadata": {
  "kernelspec": {
   "display_name": "Python 3 (ipykernel)",
   "language": "python",
   "name": "python3"
  },
  "language_info": {
   "codemirror_mode": {
    "name": "ipython",
    "version": 3
   },
   "file_extension": ".py",
   "mimetype": "text/x-python",
   "name": "python",
   "nbconvert_exporter": "python",
   "pygments_lexer": "ipython3",
   "version": "3.9.7"
  }
 },
 "nbformat": 4,
 "nbformat_minor": 5
}
